{
 "cells": [
  {
   "cell_type": "code",
   "execution_count": 1,
   "metadata": {
    "scrolled": true
   },
   "outputs": [],
   "source": [
    "#importing dependices\n",
    "import numpy\n",
    "import pandas as pd\n",
    "import seaborn as sns\n",
    "import matplotlib.pyplot as plt"
   ]
  },
  {
   "cell_type": "code",
   "execution_count": 2,
   "metadata": {
    "scrolled": true
   },
   "outputs": [
    {
     "name": "stdout",
     "output_type": "stream",
     "text": [
      "384343\n",
      "10\n"
     ]
    }
   ],
   "source": [
    "#using pandas to read the database stored in same folder\n",
    "data = pd.read_csv('marscrater_pds.csv',low_memory = False)\n",
    "print(len(data))             # Number of observations (rows)\n",
    "print(len(data.columns))     # Number of variables (columns)"
   ]
  },
  {
   "cell_type": "code",
   "execution_count": 3,
   "metadata": {
    "scrolled": true
   },
   "outputs": [],
   "source": [
    "#Upper case all DataFrame column names\n",
    "data.columns = map(str.upper,data.columns)"
   ]
  },
  {
   "cell_type": "code",
   "execution_count": 4,
   "metadata": {
    "scrolled": true
   },
   "outputs": [],
   "source": [
    "#Bug fix for display formats to avoid run time errors\n",
    "pd.set_option('display.float_format', lambda x:'%f'%x)"
   ]
  },
  {
   "cell_type": "code",
   "execution_count": 5,
   "metadata": {
    "scrolled": false
   },
   "outputs": [
    {
     "data": {
      "text/plain": [
       "CRATER_ID                  object\n",
       "CRATER_NAME                object\n",
       "LATITUDE_CIRCLE_IMAGE     float64\n",
       "LONGITUDE_CIRCLE_IMAGE    float64\n",
       "DIAM_CIRCLE_IMAGE         float64\n",
       "DEPTH_RIMFLOOR_TOPOG      float64\n",
       "MORPHOLOGY_EJECTA_1        object\n",
       "MORPHOLOGY_EJECTA_2        object\n",
       "MORPHOLOGY_EJECTA_3        object\n",
       "NUMBER_LAYERS               int64\n",
       "dtype: object"
      ]
     },
     "execution_count": 5,
     "metadata": {},
     "output_type": "execute_result"
    }
   ],
   "source": [
    "#Type of each column\n",
    "data.dtypes"
   ]
  },
  {
   "cell_type": "code",
   "execution_count": 6,
   "metadata": {
    "scrolled": true
   },
   "outputs": [
    {
     "name": "stdout",
     "output_type": "stream",
     "text": [
      "Counts for \"NUMBER_LAYERS\" variable...\n",
      "NUMBER_LAYERS\n",
      "0    364612\n",
      "1     15467\n",
      "2      3435\n",
      "3       739\n",
      "4        85\n",
      "5         5\n",
      "dtype: int64\n",
      "\n",
      "\n",
      "Percentages for \"NUMBER_LAYERS\" variable...\n",
      "NUMBER_LAYERS\n",
      "0   94.866304\n",
      "1    4.024270\n",
      "2    0.893733\n",
      "3    0.192276\n",
      "4    0.022116\n",
      "5    0.001301\n",
      "dtype: float64\n"
     ]
    }
   ],
   "source": [
    "# freqeuncy disributions using the 'groupby' function\n",
    "print(\"Counts for \\\"NUMBER_LAYERS\\\" variable...\")\n",
    "nl = data.groupby(\"NUMBER_LAYERS\").size()                       #counts\n",
    "print(nl)\n",
    "print('\\n')\n",
    "print(\"Percentages for \\\"NUMBER_LAYERS\\\" variable...\")\n",
    "nlp = data.groupby(\"NUMBER_LAYERS\").size() * 100 / len(data)   #precentages\n",
    "print(nlp)"
   ]
  },
  {
   "cell_type": "code",
   "execution_count": 7,
   "metadata": {
    "scrolled": false
   },
   "outputs": [
    {
     "name": "stdout",
     "output_type": "stream",
     "text": [
      "Counts for \"DEPTH_RIMFLOOR_TOPOG\" variable...\n",
      "0.000000    307529\n",
      "2.000000        14\n",
      "0.220000      1189\n",
      "0.190000      1363\n",
      "0.430000       684\n",
      "             ...  \n",
      "0.780000       302\n",
      "0.620000       446\n",
      "0.160000      1541\n",
      "1.570000        44\n",
      "1.140000        99\n",
      "Name: DEPTH_RIMFLOOR_TOPOG, Length: 296, dtype: int64\n",
      "\n",
      "\n",
      "Percentage for \"DEPTH_RIMFLOOR_TOPOG\" variable...\n",
      "0.000000   0.800142\n",
      "2.000000   0.000036\n",
      "0.220000   0.003094\n",
      "0.190000   0.003546\n",
      "0.430000   0.001780\n",
      "             ...   \n",
      "0.780000   0.000786\n",
      "0.620000   0.001160\n",
      "0.160000   0.004009\n",
      "1.570000   0.000114\n",
      "1.140000   0.000258\n",
      "Name: DEPTH_RIMFLOOR_TOPOG, Length: 296, dtype: float64\n"
     ]
    }
   ],
   "source": [
    "# using value counts function to generate frequency distributions for depth of craters variable\n",
    "print(\"Counts for \\\"DEPTH_RIMFLOOR_TOPOG\\\" variable...\")\n",
    "drt = data[\"DEPTH_RIMFLOOR_TOPOG\"].value_counts(sort = False)                       #counts\n",
    "print(drt)\n",
    "print('\\n')\n",
    "print(\"Percentage for \\\"DEPTH_RIMFLOOR_TOPOG\\\" variable...\")\n",
    "drtp = data[\"DEPTH_RIMFLOOR_TOPOG\"].value_counts(sort = False, normalize = True)    #percentages\n",
    "print(drtp)"
   ]
  },
  {
   "cell_type": "code",
   "execution_count": 8,
   "metadata": {},
   "outputs": [
    {
     "name": "stdout",
     "output_type": "stream",
     "text": [
      "Counts for \"DIAM_CIRCLE_IMAGE\" variable...\n",
      "8.000000       46\n",
      "2.000000      915\n",
      "14.080000      17\n",
      "24.430000       6\n",
      "3.040000      284\n",
      "             ... \n",
      "27.820000       5\n",
      "291.590000      1\n",
      "31.960000       1\n",
      "31.600000       5\n",
      "23.810000       5\n",
      "Name: DIAM_CIRCLE_IMAGE, Length: 6240, dtype: int64\n",
      "\n",
      "\n",
      "Percentages for \"DIAM_CIRCLE_IMAGE\" variable...\n",
      "8.000000     0.000120\n",
      "2.000000     0.002381\n",
      "14.080000    0.000044\n",
      "24.430000    0.000016\n",
      "3.040000     0.000739\n",
      "               ...   \n",
      "27.820000    0.000013\n",
      "291.590000   0.000003\n",
      "31.960000    0.000003\n",
      "31.600000    0.000013\n",
      "23.810000    0.000013\n",
      "Name: DIAM_CIRCLE_IMAGE, Length: 6240, dtype: float64\n"
     ]
    }
   ],
   "source": [
    "# using value counts function to generate frequency distributions\n",
    "print(\"Counts for \\\"DIAM_CIRCLE_IMAGE\\\" variable...\")\n",
    "dci = data[\"DIAM_CIRCLE_IMAGE\"].value_counts(sort = False)                      #counts\n",
    "print(dci)\n",
    "print('\\n')\n",
    "print(\"Percentages for \\\"DIAM_CIRCLE_IMAGE\\\" variable...\")\n",
    "dcip = data[\"DIAM_CIRCLE_IMAGE\"].value_counts(sort = False,normalize = True)    #precentages\n",
    "print(dcip)"
   ]
  },
  {
   "cell_type": "code",
   "execution_count": 9,
   "metadata": {},
   "outputs": [
    {
     "name": "stdout",
     "output_type": "stream",
     "text": [
      "count   384343.000000\n",
      "mean         0.064835\n",
      "std          0.304889\n",
      "min          0.000000\n",
      "25%          0.000000\n",
      "50%          0.000000\n",
      "75%          0.000000\n",
      "max          5.000000\n",
      "Name: NUMBER_LAYERS, dtype: float64\n"
     ]
    }
   ],
   "source": [
    "#describing NUMBER_LAYERS variable\n",
    "des1 = data[\"NUMBER_LAYERS\"].describe()\n",
    "print(des1)"
   ]
  },
  {
   "cell_type": "code",
   "execution_count": 10,
   "metadata": {},
   "outputs": [
    {
     "name": "stdout",
     "output_type": "stream",
     "text": [
      "count   384343.000000\n",
      "mean         0.075838\n",
      "std          0.221518\n",
      "min         -0.420000\n",
      "25%          0.000000\n",
      "50%          0.000000\n",
      "75%          0.000000\n",
      "max          4.950000\n",
      "Name: DEPTH_RIMFLOOR_TOPOG, dtype: float64\n"
     ]
    }
   ],
   "source": [
    "#describing DEPTH_RIMFLOOR_TOPOG variable\n",
    "des2 = data[\"DEPTH_RIMFLOOR_TOPOG\"].describe()\n",
    "print(des2)"
   ]
  },
  {
   "cell_type": "code",
   "execution_count": 11,
   "metadata": {},
   "outputs": [
    {
     "name": "stdout",
     "output_type": "stream",
     "text": [
      "count   384343.000000\n",
      "mean         3.556686\n",
      "std          8.591993\n",
      "min          1.000000\n",
      "25%          1.180000\n",
      "50%          1.530000\n",
      "75%          2.550000\n",
      "max       1164.220000\n",
      "Name: DIAM_CIRCLE_IMAGE, dtype: float64\n"
     ]
    }
   ],
   "source": [
    "#describing DIAM_CIRCLE_IMAGE variable\n",
    "des3 = data[\"DIAM_CIRCLE_IMAGE\"].describe()\n",
    "print(des3)"
   ]
  },
  {
   "cell_type": "code",
   "execution_count": 12,
   "metadata": {},
   "outputs": [
    {
     "data": {
      "text/plain": [
       "Text(0.5, 0, 'Number of layers')"
      ]
     },
     "execution_count": 12,
     "metadata": {},
     "output_type": "execute_result"
    },
    {
     "data": {
      "image/png": "[encoded data removed]",
      "text/plain": [
       "<Figure size 432x288 with 1 Axes>"
      ]
     },
     "metadata": {
      "needs_background": "light"
     },
     "output_type": "display_data"
    }
   ],
   "source": [
    "#Univariate graph for \"NUMBER_LAYERS\" variable\n",
    "sns.distplot(data[\"NUMBER_LAYERS\"].dropna(),kde = False)\n",
    "plt.xlabel('Number of layers')"
   ]
  },
  {
   "cell_type": "code",
   "execution_count": 13,
   "metadata": {},
   "outputs": [
    {
     "data": {
      "text/plain": [
       "Text(0.5, 0, 'Depth of crater')"
      ]
     },
     "execution_count": 13,
     "metadata": {},
     "output_type": "execute_result"
    },
    {
     "data": {
      "image/png": "[encoded data removed]",
      "text/plain": [
       "<Figure size 432x288 with 1 Axes>"
      ]
     },
     "metadata": {
      "needs_background": "light"
     },
     "output_type": "display_data"
    }
   ],
   "source": [
    "#Univariate graph for \"DEPTH_RIMFLOOR_TOPOG\" variable\n",
    "sns.distplot(data['DEPTH_RIMFLOOR_TOPOG'].dropna(),kde = False)\n",
    "plt.xlabel('Depth of crater')"
   ]
  },
  {
   "cell_type": "code",
   "execution_count": 14,
   "metadata": {},
   "outputs": [
    {
     "data": {
      "text/plain": [
       "Text(0.5, 0, 'Diameter of crater')"
      ]
     },
     "execution_count": 14,
     "metadata": {},
     "output_type": "execute_result"
    },
    {
     "data": {
      "image/png": "[encoded data removed]",
      "text/plain": [
       "<Figure size 432x288 with 1 Axes>"
      ]
     },
     "metadata": {
      "needs_background": "light"
     },
     "output_type": "display_data"
    }
   ],
   "source": [
    "#Univariate graph for \"DIAM_CIRCLE_IMAGE\" variable\n",
    "sns.distplot(data['DIAM_CIRCLE_IMAGE'].dropna(),kde = False)\n",
    "plt.xlabel('Diameter of crater')"
   ]
  },
  {
   "cell_type": "code",
   "execution_count": 15,
   "metadata": {},
   "outputs": [
    {
     "name": "stdout",
     "output_type": "stream",
     "text": [
      "AxesSubplot(0.125,0.125;0.775x0.755)\n"
     ]
    },
    {
     "data": {
      "image/png": "[encoded data removed]",
      "text/plain": [
       "<Figure size 432x288 with 1 Axes>"
      ]
     },
     "metadata": {
      "needs_background": "light"
     },
     "output_type": "display_data"
    }
   ],
   "source": [
    "#Scatter plot to understand the relationship between NUMBER_LAYERS and DEPTH_RIMFLOOR_TOPOG\n",
    "p1 = sns.regplot(x = 'NUMBER_LAYERS',y = 'DEPTH_RIMFLOOR_TOPOG',data = data)\n",
    "plt.xlabel('Number of layers of crater')\n",
    "plt.ylabel('Depth of crater')\n",
    "plt.title('Scatter plot for association between number of layers and depth of crater')\n",
    "print(p1)"
   ]
  },
  {
   "cell_type": "code",
   "execution_count": 16,
   "metadata": {},
   "outputs": [
    {
     "name": "stdout",
     "output_type": "stream",
     "text": [
      "AxesSubplot(0.125,0.125;0.775x0.755)\n"
     ]
    },
    {
     "data": {
      "image/png": "[encoded data removed]",
      "text/plain": [
       "<Figure size 432x288 with 1 Axes>"
      ]
     },
     "metadata": {
      "needs_background": "light"
     },
     "output_type": "display_data"
    }
   ],
   "source": [
    "#Scatter plot to understand the relationship between DIAM_CIRCLE_IMAGE and DEPTH_RIMFLOOR_TOPOG\n",
    "p2 = sns.regplot(x = 'DIAM_CIRCLE_IMAGE',y = 'DEPTH_RIMFLOOR_TOPOG',data = data)\n",
    "plt.xlabel('Diameter of crater')\n",
    "plt.ylabel('Depth of crater')\n",
    "plt.title('Scatter plot for association between Diameter of crater and depth of crater')\n",
    "print(p2)"
   ]
  },
  {
   "cell_type": "code",
   "execution_count": 17,
   "metadata": {},
   "outputs": [
    {
     "name": "stdout",
     "output_type": "stream",
     "text": [
      "AxesSubplot(0.125,0.125;0.775x0.755)\n"
     ]
    },
    {
     "data": {
      "image/png": "[encoded data removed]",
      "text/plain": [
       "<Figure size 432x288 with 1 Axes>"
      ]
     },
     "metadata": {
      "needs_background": "light"
     },
     "output_type": "display_data"
    }
   ],
   "source": [
    "#Scatter plot to understand the relationship between NUMBER_LAYERS and DIAM_CIRCLE_IMAGE\n",
    "p3 = sns.regplot(x = 'NUMBER_LAYERS',y = 'DIAM_CIRCLE_IMAGE',data = data)\n",
    "plt.xlabel('Number of layers of crater')\n",
    "plt.ylabel('Diameter of crater')\n",
    "plt.title('Scatter plot for association between number of layers and diameter of crater')\n",
    "print(p3)"
   ]
  }
 ],
 "metadata": {
  "kernelspec": {
   "display_name": "Python 3",
   "language": "python",
   "name": "python3"
  },
  "language_info": {
   "codemirror_mode": {
    "name": "ipython",
    "version": 3
   },
   "file_extension": ".py",
   "mimetype": "text/x-python",
   "name": "python",
   "nbconvert_exporter": "python",
   "pygments_lexer": "ipython3",
   "version": "3.7.5"
  }
 },
 "nbformat": 4,
 "nbformat_minor": 2
}
