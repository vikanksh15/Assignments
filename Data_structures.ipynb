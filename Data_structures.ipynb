{
  "nbformat": 4,
  "nbformat_minor": 0,
  "metadata": {
    "colab": {
      "name": "Data structures.ipynb",
      "provenance": []
    },
    "kernelspec": {
      "name": "python3",
      "display_name": "Python 3"
    }
  },
  "cells": [
    {
      "cell_type": "code",
      "metadata": {
        "id": "czfFVVVlvKtO",
        "colab_type": "code",
        "outputId": "6df9793c-0a29-42b8-f0f7-6034f7d70499",
        "colab": {
          "base_uri": "https://localhost:8080/",
          "height": 118
        }
      },
      "source": [
        "# 1.Assigning elements to different lists\n",
        "\n",
        "#Accesing elements from a list\n",
        "fruits = ['apple','banana','orange']\n",
        "fruits.append('cherries')\n",
        "fruits.insert(1,'apricots')\n",
        "fruits.extend(['straw berry','pineapple','limes'])\n",
        "print(fruits,'\\n')\n",
        "\n",
        "#Assigning elements of list1 to list2\n",
        "list1 = ['iron','man']\n",
        "list2 = ['i','am']\n",
        "print(\"ORIGINAL LIST1:\",list1)\n",
        "print(\"ORIGINAL LIST2:\",list2)\n",
        "for i in list1:\n",
        "  list2.append(i)\n",
        "print('modified list2 :',list2)\n",
        "list1 = list2.copy()\n",
        "print('Modified list1:',list1)"
      ],
      "execution_count": 3,
      "outputs": [
        {
          "output_type": "stream",
          "text": [
            "['apple', 'apricots', 'banana', 'orange', 'cherries', 'straw berry', 'pineapple', 'limes'] \n",
            "\n",
            "ORIGINAL LIST1: ['iron', 'man']\n",
            "ORIGINAL LIST2: ['i', 'am']\n",
            "modified list2 : ['i', 'am', 'iron', 'man']\n",
            "Modified list1: ['i', 'am', 'iron', 'man']\n"
          ],
          "name": "stdout"
        }
      ]
    },
    {
      "cell_type": "code",
      "metadata": {
        "id": "Nnx5OVmJxJh-",
        "colab_type": "code",
        "colab": {
          "base_uri": "https://localhost:8080/",
          "height": 50
        },
        "outputId": "e4eddd21-d752-4e21-c102-446c3634aebb"
      },
      "source": [
        "# 2.Acessing elements from a tuple\n",
        "\n",
        "tuple1 = ('we','love','you',3000)\n",
        "for i in range(4):\n",
        "     print(tuple1[i],end =' ')\n",
        "print('\\n')"
      ],
      "execution_count": 1,
      "outputs": [
        {
          "output_type": "stream",
          "text": [
            "we love you 3000 \n",
            "\n"
          ],
          "name": "stdout"
        }
      ]
    },
    {
      "cell_type": "code",
      "metadata": {
        "id": "NqedWOt_S5Yh",
        "colab_type": "code",
        "colab": {
          "base_uri": "https://localhost:8080/",
          "height": 168
        },
        "outputId": "aa3a719f-0ab2-45d1-9903-dd73dc6df5fc"
      },
      "source": [
        "# 3.Deleting different dictionary elements\n",
        "\n",
        "dict = {1:'Too',2:'Clever',3:'is',4:'Dumb'}\n",
        "print(\"Initial dictionary:\")\n",
        "print(dict)\n",
        "del dict[1]\n",
        "print(\"Dictionary after deleting:\")\n",
        "print(dict)\n",
        "x = dict.pop(3)\n",
        "print(\"Dictionary after deleting:\")\n",
        "print(dict)\n",
        "print('Value associated to poped key is:',x)\n",
        "dict.clear()\n",
        "print(\"Deleting entire dictionary:\")\n",
        "print(dict)"
      ],
      "execution_count": 2,
      "outputs": [
        {
          "output_type": "stream",
          "text": [
            "Initial dictionary:\n",
            "{1: 'Too', 2: 'Clever', 3: 'is', 4: 'Dumb'}\n",
            "Dictionary after deleting:\n",
            "{2: 'Clever', 3: 'is', 4: 'Dumb'}\n",
            "Dictionary after deleting:\n",
            "{2: 'Clever', 4: 'Dumb'}\n",
            "Value associated to poped key is: is\n",
            "Deleting entire dictionary:\n",
            "{}\n"
          ],
          "name": "stdout"
        }
      ]
    }
  ]
}