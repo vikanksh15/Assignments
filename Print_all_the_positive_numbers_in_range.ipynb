{
  "nbformat": 4,
  "nbformat_minor": 0,
  "metadata": {
    "colab": {
      "name": "Print all the positive numbers in range.ipynb",
      "provenance": [],
      "collapsed_sections": []
    },
    "kernelspec": {
      "name": "python3",
      "display_name": "Python 3"
    }
  },
  "cells": [
    {
      "cell_type": "code",
      "metadata": {
        "id": "svC_hxorYBmU",
        "colab_type": "code",
        "outputId": "e18d5db4-bf31-4d07-fd13-226c5c6eb8cc",
        "colab": {
          "base_uri": "https://localhost:8080/",
          "height": 151
        }
      },
      "source": [
        "#program to print all the positive numbers in range\n",
        "list1 = []\n",
        "lis1 = []\n",
        "n = int(input('Enter the numbers of elements you want to add:'))\n",
        "for i in range(n):\n",
        "    x=int(input())\n",
        "    list1.append(x)\n",
        "print('Initial list is :',list1)\n",
        "for i in list1:\n",
        "    if i>= 0:\n",
        "        lis1.append(i)\n",
        "print('final list is:',lis1)"
      ],
      "execution_count": 3,
      "outputs": [
        {
          "output_type": "stream",
          "text": [
            "Enter the numbers of elements you want to add:5\n",
            "12\n",
            "-7\n",
            "5\n",
            "64\n",
            "-14\n",
            "Initial list is : [12, -7, 5, 64, -14]\n",
            "final list is: [12, 5, 64]\n"
          ],
          "name": "stdout"
        }
      ]
    }
  ]
}