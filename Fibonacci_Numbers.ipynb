{
  "nbformat": 4,
  "nbformat_minor": 0,
  "metadata": {
    "colab": {
      "name": "Fibonacci Numbers.ipynb",
      "provenance": [],
      "private_outputs": true,
      "collapsed_sections": []
    },
    "kernelspec": {
      "name": "python3",
      "display_name": "Python 3"
    }
  },
  "cells": [
    {
      "cell_type": "code",
      "metadata": {
        "id": "d6H-UbsYgSJN",
        "colab_type": "code",
        "colab": {}
      },
      "source": [
        "# program print the fibonacci numbers\n",
        "x=int(input(\"how many terms you want ? \"))\n",
        "n1=0\n",
        "n2=1\n",
        "i=1\n",
        "print(\"Fibonacci sequence:\")\n",
        "while i<=x:\n",
        "    print(n1)\n",
        "    j=n2\n",
        "    n2=n1+n2\n",
        "    n1=j\n",
        "    i+=1"
      ],
      "execution_count": 0,
      "outputs": []
    },
    {
      "cell_type": "code",
      "metadata": {
        "id": "yimL4uJhfrT1",
        "colab_type": "code",
        "colab": {}
      },
      "source": [
        ""
      ],
      "execution_count": 0,
      "outputs": []
    }
  ]
}